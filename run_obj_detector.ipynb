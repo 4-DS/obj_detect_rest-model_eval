{
 "cells": [
  {
   "cell_type": "code",
   "execution_count": null,
   "id": "ce28eca0-63f8-4baf-b161-7a42e61009bf",
   "metadata": {
    "tags": []
   },
   "outputs": [],
   "source": [
    "%load_ext autoreload\n",
    "%autoreload 2"
   ]
  },
  {
   "cell_type": "code",
   "execution_count": null,
   "id": "1baa89f6-d78d-4039-a123-7593667ee089",
   "metadata": {
    "tags": [
     "parameters"
    ]
   },
   "outputs": [],
   "source": [
    "# specify substep parameters for interactive run\n",
    "# this cell will be replaced during job run with the parameters from json within params subfolder\n",
    "substep_params={   \n",
    "    \"min_score\" : 0.05\n",
    "}"
   ]
  },
  {
   "cell_type": "code",
   "execution_count": null,
   "id": "7bb2efe8-173e-44a9-b5d7-3a1fd4451c00",
   "metadata": {
    "tags": []
   },
   "outputs": [],
   "source": [
    "# load pipeline and step parameters - do not edit\n",
    "from sinara.substep import get_pipeline_params, get_step_params\n",
    "pipeline_params = get_pipeline_params(pprint=True)\n",
    "step_params = get_step_params(pprint=True)"
   ]
  },
  {
   "cell_type": "code",
   "execution_count": null,
   "id": "dc9323e4-bbb9-4154-a799-8d55f57e32b6",
   "metadata": {
    "tags": []
   },
   "outputs": [],
   "source": [
    "# define substep interface\n",
    "from sinara.substep import NotebookSubstep, ENV_NAME, PIPELINE_NAME, ZONE_NAME, STEP_NAME, RUN_ID, ENTITY_NAME, ENTITY_PATH, SUBSTEP_NAME\n",
    "\n",
    "substep = NotebookSubstep(pipeline_params, step_params, substep_params)\n",
    "\n",
    "substep.interface(\n",
    "    inputs =    \n",
    "    [ \n",
    "      { STEP_NAME: \"data_prep\", ENTITY_NAME: \"coco_test_dataset\"}, # dataset for detector testing from data_prep step\n",
    "      { STEP_NAME: \"model_pack\", ENTITY_NAME: \"bento_service\"}  # stored BentoService from model_pack\n",
    "    ],\n",
    "    tmp_outputs =\n",
    "    [\n",
    "        { ENTITY_NAME: \"coco_test_dataset\" },  # ground-true test dataset files for use in next substep\n",
    "        { ENTITY_NAME: \"coco_inference_result_dataset\" } # predicted test dataset files for use in next substep\n",
    "    ],\n",
    ")\n",
    "\n",
    "substep.print_interface_info()\n",
    "\n",
    "substep.exit_in_visualize_mode()"
   ]
  },
  {
   "cell_type": "code",
   "execution_count": null,
   "id": "0542910b-bd55-4cba-8b23-584c0fbd1310",
   "metadata": {
    "tags": []
   },
   "outputs": [],
   "source": [
    "# run spark\n",
    "from sinara.spark import SinaraSpark\n",
    "\n",
    "spark = SinaraSpark.run_session(0)\n",
    "SinaraSpark.ui_url()"
   ]
  },
  {
   "cell_type": "markdown",
   "id": "cd37f601-9a03-41b2-8bed-1d85b2f7d4d3",
   "metadata": {},
   "source": [
    "### Loading REST bento_service "
   ]
  },
  {
   "cell_type": "markdown",
   "id": "257bc90a-ee16-4810-8af9-58b9d00a943f",
   "metadata": {
    "tags": []
   },
   "source": [
    "#### Get and load bentoservice"
   ]
  },
  {
   "cell_type": "code",
   "execution_count": null,
   "id": "c1dfd11c-41c8-48dc-b1fb-20a631ca4f33",
   "metadata": {
    "tags": []
   },
   "outputs": [],
   "source": [
    "import os.path as osp"
   ]
  },
  {
   "cell_type": "code",
   "execution_count": null,
   "id": "39c99362-0e5c-48ef-a67a-6e8e1e8e3984",
   "metadata": {
    "tags": []
   },
   "outputs": [],
   "source": [
    "from sinara.bentoml import load_bentoservice\n",
    "\n",
    "# read trained model\n",
    "print('read trained model')\n",
    "inputs_model_pack = substep.inputs(step_name = \"model_pack\")\n",
    "bento_service = load_bentoservice(inputs_model_pack.bento_service)"
   ]
  },
  {
   "cell_type": "markdown",
   "id": "7cb42400-030f-4deb-879c-ef874723462e",
   "metadata": {
    "tags": []
   },
   "source": [
    "### Loading test datasets (from step data_prep)"
   ]
  },
  {
   "cell_type": "code",
   "execution_count": null,
   "id": "f96481c5-a92d-4fcd-a870-54ed624b9d0f",
   "metadata": {
    "tags": []
   },
   "outputs": [],
   "source": [
    "from sinara.archive import SinaraArchive\n",
    "import json\n",
    "\n",
    "# copy test data and dataset_config from previos step (data_prep) to tmp\n",
    "inputs_data_prep = substep.inputs(step_name = \"data_prep\")\n",
    "tmp_outputs = substep.tmp_outputs()\n",
    "\n",
    "archive = SinaraArchive(spark)\n",
    "archive.unpack_files_from_store_to_tmp(store_path=inputs_data_prep.coco_test_dataset, tmp_entity_dir=tmp_outputs.coco_test_dataset)\n",
    "\n",
    "# reading ground-true test dataset markup \n",
    "with open(osp.join(tmp_outputs.coco_test_dataset, \"test_coco_annotations.json\")) as f_id:\n",
    "    test_coco_dataset = json.load(f_id)\n",
    "    \n",
    "print('Annotations count in test_coco_dataset:', len(test_coco_dataset['annotations']))\n",
    "print('Keys count in test_coco_dataset:', list(test_coco_dataset))"
   ]
  },
  {
   "cell_type": "markdown",
   "id": "e91a1a07-73f0-460a-af02-a1e9803bd4dd",
   "metadata": {},
   "source": [
    "### Inference by REST API bentoservice"
   ]
  },
  {
   "cell_type": "markdown",
   "id": "d600bd37-a50f-4773-9b67-928907e95729",
   "metadata": {},
   "source": [
    "#### Inference on a test dataset"
   ]
  },
  {
   "cell_type": "markdown",
   "id": "750b7d78-8d6b-4c03-b2d5-de5b907a40fc",
   "metadata": {
    "tags": []
   },
   "source": [
    "##### Inference detector on a test dataset and prepere eval_coco_dataset.json for eval step"
   ]
  },
  {
   "cell_type": "code",
   "execution_count": null,
   "id": "4f6a7544-8148-418a-8eab-6f3bfe854b0c",
   "metadata": {
    "tags": []
   },
   "outputs": [],
   "source": [
    "from tqdm import tqdm\n",
    "import cv2\n",
    "\n",
    "from utils.coco import convert_inference_results_to_coco\n",
    "from utils.coco import dump_coco_file\n",
    "\n",
    "eval_coco_dataset = dict(test_coco_dataset, **{\"annotations\" : []})\n",
    "for image in tqdm(test_coco_dataset['images'], desc='process predict'):\n",
    "    file_name = osp.join(tmp_outputs.coco_test_dataset, image['file_name'])\n",
    "    img = cv2.imread(file_name)\n",
    "    out_coco = bento_service.predict(file_name)\n",
    "    \n",
    "    out_coco[\"file_name\"] = image[\"file_name\"]\n",
    "    out_coco[\"image_id\"] = image[\"id\"]    \n",
    "    out_coco_annotations = []\n",
    "    for out_coco_ann in  out_coco[\"annotations\"]:\n",
    "        out_coco_ann.update({\"image_id\": image[\"id\"]})\n",
    "        out_coco_annotations.append(out_coco_ann)\n",
    "        \n",
    "    eval_coco_dataset[\"annotations\"] += out_coco_annotations\n",
    "        \n",
    "last_image_file_name = file_name\n",
    "        \n",
    "print('test_coco_dataset annotations amount:', len(test_coco_dataset['annotations']))\n",
    "print('eval_coco_dataset annotations amount:', len(eval_coco_dataset['annotations']))\n",
    "\n",
    "eval_coco_dataset['info']['iouType'] = 'bbox'\n",
    "for ann in eval_coco_dataset['annotations']:\n",
    "    ann['area'] = ann['bbox'][2] * ann['bbox'][3]\n",
    "\n",
    "dump_coco_file(osp.join(tmp_outputs.coco_inference_result_dataset, 'eval_coco_dataset.json'), eval_coco_dataset)\n",
    "print(f\"eval_coco_torch = {osp.join(tmp_outputs.coco_inference_result_dataset, 'eval_coco_dataset.json')}\")"
   ]
  },
  {
   "cell_type": "markdown",
   "id": "693eb04b-4460-4285-8043-b1558ada5190",
   "metadata": {
    "tags": []
   },
   "source": [
    "### Preview of object detection on an image"
   ]
  },
  {
   "cell_type": "markdown",
   "id": "f525cc5e-8110-4b64-8a84-d42772012a1c",
   "metadata": {},
   "source": [
    "#### Visualize last predict to last image from coco_test_dataset"
   ]
  },
  {
   "cell_type": "code",
   "execution_count": null,
   "id": "1fa805da-6f64-4afb-a58f-ac62016d05aa",
   "metadata": {
    "tags": []
   },
   "outputs": [],
   "source": [
    "from utils.coco import preview_coco_file"
   ]
  },
  {
   "cell_type": "code",
   "execution_count": null,
   "id": "c56d1f23-a4ec-42c1-a5a1-a1adf06656a2",
   "metadata": {
    "tags": []
   },
   "outputs": [],
   "source": [
    "preview_coco_file(eval_coco_dataset, img_folder=tmp_outputs.coco_test_dataset, count=2)"
   ]
  },
  {
   "cell_type": "code",
   "execution_count": null,
   "id": "07ceb2bb-f016-42de-bbcc-56b1b7864ad7",
   "metadata": {
    "tags": []
   },
   "outputs": [],
   "source": [
    "# stop spark\n",
    "SinaraSpark.stop_session()"
   ]
  },
  {
   "cell_type": "code",
   "execution_count": null,
   "id": "269d7cfc-81d8-4dd6-b346-06b690e1d121",
   "metadata": {},
   "outputs": [],
   "source": []
  }
 ],
 "metadata": {
  "kernelspec": {
   "display_name": "cv",
   "language": "python",
   "name": "cv"
  },
  "language_info": {
   "codemirror_mode": {
    "name": "ipython",
    "version": 3
   },
   "file_extension": ".py",
   "mimetype": "text/x-python",
   "name": "python",
   "nbconvert_exporter": "python",
   "pygments_lexer": "ipython3",
   "version": "3.9.10"
  }
 },
 "nbformat": 4,
 "nbformat_minor": 5
}
