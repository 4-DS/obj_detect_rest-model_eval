{
 "cells": [
  {
   "cell_type": "code",
   "execution_count": null,
   "id": "d24254d8-fec4-41e8-b8ab-2d0c47569b6b",
   "metadata": {
    "tags": []
   },
   "outputs": [],
   "source": [
    "%load_ext autoreload\n",
    "%autoreload 2"
   ]
  },
  {
   "cell_type": "markdown",
   "id": "2bb96182-b5bd-4723-9a7b-e9ee65aaa653",
   "metadata": {},
   "source": [
    "Declaration of parameters (you must also add a tag for this cell - parameters)"
   ]
  },
  {
   "cell_type": "code",
   "execution_count": null,
   "id": "a128a7f5-4294-4578-b301-b947a5a6d832",
   "metadata": {
    "tags": [
     "parameters"
    ]
   },
   "outputs": [],
   "source": [
    "# specify substep parameters for interactive run\n",
    "# this cell will be replaced during job run with the parameters from json within params subfolder\n",
    "substep_params={   \n",
    "    \"threshold_iou\" : 0.5,\n",
    "    \"threshold_MAp05\": 0.01\n",
    "}"
   ]
  },
  {
   "cell_type": "code",
   "execution_count": null,
   "id": "195baa6b-5f74-4298-b0a5-95209ab0b3dc",
   "metadata": {
    "tags": []
   },
   "outputs": [],
   "source": [
    "# load pipeline and step parameters - do not edit\n",
    "from sinara.substep import get_pipeline_params, get_step_params\n",
    "pipeline_params = get_pipeline_params(pprint=True)\n",
    "step_params = get_step_params(pprint=True)"
   ]
  },
  {
   "cell_type": "code",
   "execution_count": null,
   "id": "b15b1cd2-1d47-4c7b-89bf-5a235a33f403",
   "metadata": {
    "tags": []
   },
   "outputs": [],
   "source": [
    "# define substep interface\n",
    "from sinara.substep import NotebookSubstep, ENV_NAME, PIPELINE_NAME, ZONE_NAME, STEP_NAME, RUN_ID, ENTITY_NAME, ENTITY_PATH, SUBSTEP_NAME\n",
    "\n",
    "substep = NotebookSubstep(pipeline_params, step_params, substep_params)\n",
    "\n",
    "substep.interface(    \n",
    "    tmp_inputs =\n",
    "    [\n",
    "        { ENTITY_NAME: \"coco_test_dataset\" }, # ground-true test dataset\n",
    "        { ENTITY_NAME: \"coco_inference_result_dataset\" }\n",
    "    ]\n",
    ")\n",
    "\n",
    "substep.print_interface_info()\n",
    "\n",
    "substep.exit_in_visualize_mode()"
   ]
  },
  {
   "cell_type": "markdown",
   "id": "30dcb829-6442-4169-b73d-1e7a985c5ad0",
   "metadata": {},
   "source": [
    "### Load coco_test_dataset and coco_inference_result_dataset"
   ]
  },
  {
   "cell_type": "code",
   "execution_count": null,
   "id": "955d09aa-0563-4af0-ab02-12b3a95a707e",
   "metadata": {
    "tags": []
   },
   "outputs": [],
   "source": [
    "import os.path as osp\n",
    "from utils.coco import load_coco_file\n",
    "\n",
    "tmp_inputs = substep.tmp_inputs()\n",
    "\n",
    "# reading ground-truth test dataset \n",
    "test_coco_dataset_path = osp.join(osp.join(tmp_inputs.coco_test_dataset, \"test_coco_annotations.json\"))\n",
    "\n",
    "# reading inference detect result dataset \n",
    "eval_coco_dataset_file = osp.join(tmp_inputs.coco_inference_result_dataset, 'eval_coco_dataset.json')\n",
    "eval_coco_dataset = load_coco_file(eval_coco_dataset_file)"
   ]
  },
  {
   "cell_type": "markdown",
   "id": "5de52261-33b5-4c86-82cf-19690c9b49e7",
   "metadata": {},
   "source": [
    "### Evaluate the test dataset "
   ]
  },
  {
   "cell_type": "code",
   "execution_count": null,
   "id": "600026ce-479a-4b02-911f-657cf967c458",
   "metadata": {
    "tags": []
   },
   "outputs": [],
   "source": [
    "iou_type = eval_coco_dataset['info'].get('iouType', 'bbox')"
   ]
  },
  {
   "cell_type": "markdown",
   "id": "6ac4475d-81f5-4388-a39d-d257b3831e09",
   "metadata": {},
   "source": [
    "#### Eval Precision-Recall Curve"
   ]
  },
  {
   "cell_type": "code",
   "execution_count": null,
   "id": "438dc5c4-38b8-405a-a1f8-c0f2bcb482be",
   "metadata": {
    "tags": []
   },
   "outputs": [],
   "source": [
    "from pycocotools.coco import COCO\n",
    "from utils.extra.curves import Curves\n",
    "from utils.coco.encoder import encode_dict_to_numpy\n",
    "\n",
    "eval_annotations = encode_dict_to_numpy(eval_coco_dataset['annotations'])\n",
    "\n",
    "test_coco_obj = COCO(test_coco_dataset_path)\n",
    "eval_coco_obj = test_coco_obj.loadRes(eval_annotations)\n",
    "\n",
    "curves = Curves(\n",
    "    test_coco_obj,\n",
    "    eval_coco_obj,\n",
    "    iou_tresh=substep_params['threshold_iou'], \n",
    "    recall_count=1000, \n",
    "    iou_type=iou_type\n",
    ")\n",
    "\n",
    "_curve = curves.build_curve('category')\n",
    "curves.plot_pre_rec(curves=_curve, plotly_backend=True)"
   ]
  },
  {
   "cell_type": "markdown",
   "id": "e23dee05-298b-44db-b3ef-da866d5efb16",
   "metadata": {},
   "source": [
    "#### Eval Average Precision, Recall Metrics"
   ]
  },
  {
   "cell_type": "code",
   "execution_count": null,
   "id": "b34c30fd-a295-44bb-95bf-3aaf1654bded",
   "metadata": {
    "tags": []
   },
   "outputs": [],
   "source": [
    "from pycocotools.cocoeval import COCOeval\n",
    "\n",
    "# running evaluation\n",
    "coco_eval = COCOeval(test_coco_obj, eval_coco_obj, iou_type)\n",
    "coco_eval.params.imgIds  = sorted(test_coco_obj.getImgIds())\n",
    "coco_eval.evaluate()\n",
    "coco_eval.accumulate()\n",
    "coco_eval.summarize()"
   ]
  },
  {
   "cell_type": "markdown",
   "id": "3045a1fa-6fec-4338-97bd-20880770a271",
   "metadata": {},
   "source": [
    "### Check weigths_pth by metric mAP@0.5 IoU"
   ]
  },
  {
   "cell_type": "code",
   "execution_count": null,
   "id": "94167121-6b15-4dc8-bd2e-100fb65fb0f7",
   "metadata": {
    "tags": []
   },
   "outputs": [],
   "source": [
    "threshold_MAp05 = substep_params[\"threshold_MAp05\"]\n",
    "\n",
    "map_05 = coco_eval.stats[1]\n",
    "print(f\"mAP@0.5 = {map_05}\")\n",
    "assert map_05 > threshold_MAp05, f\"The calculated MAp metric on the test dataset is less than the acceptable value <{threshold_MAp05}\""
   ]
  },
  {
   "cell_type": "code",
   "execution_count": null,
   "id": "328a3048-27ee-4166-94e5-f79c294439b2",
   "metadata": {},
   "outputs": [],
   "source": []
  },
  {
   "cell_type": "code",
   "execution_count": null,
   "id": "17162ed5-ed3e-468a-afd3-0f34e076d128",
   "metadata": {},
   "outputs": [],
   "source": []
  }
 ],
 "metadata": {
  "kernelspec": {
   "display_name": "cv",
   "language": "python",
   "name": "cv"
  },
  "language_info": {
   "codemirror_mode": {
    "name": "ipython",
    "version": 3
   },
   "file_extension": ".py",
   "mimetype": "text/x-python",
   "name": "python",
   "nbconvert_exporter": "python",
   "pygments_lexer": "ipython3",
   "version": "3.9.10"
  }
 },
 "nbformat": 4,
 "nbformat_minor": 5
}
